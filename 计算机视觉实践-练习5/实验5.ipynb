{
 "cells": [
  {
   "cell_type": "code",
   "execution_count": 1,
   "id": "c1191001",
   "metadata": {},
   "outputs": [],
   "source": [
    "from PIL import Image\n",
    "from pylab import *\n",
    "import numpy as np\n",
    "from scipy.ndimage import uniform_filter, gaussian_filter\n",
    "import cv2"
   ]
  },
  {
   "cell_type": "code",
   "execution_count": 2,
   "id": "87594dbb",
   "metadata": {},
   "outputs": [],
   "source": [
    "# 使用归一化的互相关计算视差图像\n",
    "def ncc(im_l,im_r,start,steps,wid):\n",
    "    m, n = im_l.shape\n",
    "    # 保存不同求和值的数组\n",
    "    mean_l = np.zeros((m, n))\n",
    "    mean_r = np.zeros((m, n))\n",
    "    s = np.zeros((m, n))\n",
    "    s_l = np.zeros((m, n))\n",
    "    s_r = np.zeros((m, n))\n",
    "    # 保存深度平面的数组\n",
    "    dmaps = np.zeros((m, n, steps))\n",
    "    # 计算图像块的平均值\n",
    "    uniform_filter(im_l, wid, mean_l)\n",
    "    uniform_filter(im_r, wid, mean_r)\n",
    "    # 归一化图像\n",
    "    norm_l = im_l - mean_l\n",
    "    norm_r = im_r - mean_r\n",
    "    # 尝试不同的视差\n",
    "    for displ in range(steps):\n",
    "        #将左边图像移动到右边，计算加和\n",
    "        uniform_filter(roll(norm_l, -displ - start) * norm_r, wid, s)  # 和归一化\n",
    "        uniform_filter(roll(norm_l, -displ - start) * roll(norm_l, -displ - start), wid, s_l)\n",
    "        uniform_filter(norm_r * norm_r, wid, s_r)  # 和反归一化\n",
    "        # 保存ncc 的分数\n",
    "        dmaps[:, :, displ] = s / np.sqrt((s_l * s_r) + 1e-5)\n",
    "    # 为每个像素选取最佳深度\n",
    "    return argmax(dmaps, axis=2)"
   ]
  },
  {
   "cell_type": "code",
   "execution_count": 3,
   "id": "828b9c14",
   "metadata": {},
   "outputs": [],
   "source": [
    "def gauss(im_l,im_r,start,steps,wid):\n",
    "    \"\"\" 使用带有高斯加权周边的归一化互相关计算视差图像\"\"\"\n",
    "    m,n = im_l.shape\n",
    "    # 保存不同加和的数组\n",
    "    mean_l = zeros((m,n))\n",
    "    mean_r = zeros((m,n))\n",
    "    s = zeros((m,n))\n",
    "    s_l = zeros((m,n))\n",
    "    s_r = zeros((m,n))\n",
    "    # 保存深度平面的数组\n",
    "    dmaps = zeros((m,n,steps))\n",
    "    # 计算平均值\n",
    "    gaussian_filter(im_l,wid,0,mean_l)\n",
    "    gaussian_filter(im_r,wid,0,mean_r)\n",
    "    # 归一化图像\n",
    "    norm_l = im_l - mean_l\n",
    "    norm_r = im_r - mean_r\n",
    "    # 尝试不同的视差\n",
    "    for displ in range(steps):\n",
    "        # 将左边图像移动到右边，计算加和\n",
    "        gaussian_filter(roll(norm_l,-displ-start)*norm_r,wid,0,s) # 和归一化\n",
    "        gaussian_filter(roll(norm_l,-displ-start)*roll(norm_l,-displ-start),wid,0,s_l)\n",
    "        gaussian_filter(norm_r*norm_r,wid,0,s_r) # 和反归一化\n",
    "        # 保存ncc 的分数\n",
    "        dmaps[:,:,displ] = s/np.sqrt(s_l*s_r)\n",
    "    # 为每个像素选取最佳深度\n",
    "    return argmax(dmaps,axis=2)"
   ]
  },
  {
   "cell_type": "code",
   "execution_count": 4,
   "id": "bf688cf6",
   "metadata": {},
   "outputs": [],
   "source": [
    "im_l = array(Image.open('cones/im2.png').convert('L'), 'f')\n",
    "im_r = array(Image.open('cones/im6.png').convert('L'), 'f')\n",
    "# 开始偏移，并设置步长\n",
    "steps = 40\n",
    "start = 4\n",
    "# ncc 的宽度\n",
    "wids = [3, 9, 15]\n",
    "for wid in wids:\n",
    "    res1 = ncc(im_l, im_r, start, steps, wid)\n",
    "    cv2.imwrite('cones/depth1-{}.png'.format(wid), res1)\n",
    "    res2 = gauss(im_l, im_r, start, steps, wid)\n",
    "    cv2.imwrite('cones/depth2-{}.png'.format(wid), res2)\n"
   ]
  },
  {
   "cell_type": "code",
   "execution_count": null,
   "id": "b0790de8",
   "metadata": {},
   "outputs": [],
   "source": []
  }
 ],
 "metadata": {
  "kernelspec": {
   "display_name": "Python [conda env:nor]",
   "language": "python",
   "name": "conda-env-nor-py"
  },
  "language_info": {
   "codemirror_mode": {
    "name": "ipython",
    "version": 3
   },
   "file_extension": ".py",
   "mimetype": "text/x-python",
   "name": "python",
   "nbconvert_exporter": "python",
   "pygments_lexer": "ipython3",
   "version": "3.8.18"
  }
 },
 "nbformat": 4,
 "nbformat_minor": 5
}
