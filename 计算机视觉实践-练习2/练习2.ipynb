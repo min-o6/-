{
 "cells": [
  {
   "cell_type": "code",
   "execution_count": 1,
   "id": "5824a9e7",
   "metadata": {},
   "outputs": [],
   "source": [
    "from download import download\n",
    "import matplotlib.pyplot as plt\n",
    "\n",
    "import numpy as np\n",
    "import mindspore as ms\n",
    "import mindspore.nn as nn\n",
    "import mindspore.dataset as ds\n",
    "from mindspore.dataset import vision, transforms\n",
    "from mindspore.train import Model, CheckpointConfig, ModelCheckpoint, LossMonitor"
   ]
  },
  {
   "cell_type": "code",
   "execution_count": 2,
   "id": "bb98a955",
   "metadata": {},
   "outputs": [],
   "source": [
    "# 构建lenet5网络\n",
    "class LeNet5(nn.Cell):\n",
    "    def __init__(self):\n",
    "        super().__init__()\n",
    "        self.convseq = nn.SequentialCell(\n",
    "            nn.Conv2d(1, 6, 5, stride=1, pad_mode='valid'),\n",
    "            nn.ReLU(),\n",
    "            nn.MaxPool2d(2, 2),\n",
    "            nn.Conv2d(6, 16, 5, stride=1, pad_mode='valid'),\n",
    "            nn.ReLU(),\n",
    "            nn.MaxPool2d(2, 2),\n",
    "        )\n",
    "        self.flat = nn.Flatten()\n",
    "        self.fcseq = nn.SequentialCell(\n",
    "            nn.Dense(16 * 5 * 5, 120),\n",
    "            nn.ReLU(),\n",
    "            nn.Dense(120, 84),\n",
    "            nn.ReLU(),\n",
    "            nn.Dense(84, 10)\n",
    "        )\n",
    "        \n",
    "    def construct(self, x):\n",
    "        x = self.convseq(x)\n",
    "        x = self.flat(x)\n",
    "        x = self.fcseq(x)\n",
    "        return x"
   ]
  },
  {
   "cell_type": "code",
   "execution_count": 3,
   "id": "120536ce",
   "metadata": {},
   "outputs": [
    {
     "name": "stdout",
     "output_type": "stream",
     "text": [
      "Replace is False and data exists, so doing nothing. Use replace=True to re-download the data.\n"
     ]
    },
    {
     "data": {
      "text/plain": [
       "'./data'"
      ]
     },
     "execution_count": 3,
     "metadata": {},
     "output_type": "execute_result"
    }
   ],
   "source": [
    "# 下载数据集\n",
    "mnist_url = \"https://mindspore-website.obs.cn-north-4.myhuaweicloud.com/notebook/datasets/MNIST_Data.zip\"\n",
    "download(mnist_url, \"./data\", kind=\"zip\", replace=False)"
   ]
  },
  {
   "cell_type": "code",
   "execution_count": 4,
   "id": "5b0fde99",
   "metadata": {},
   "outputs": [],
   "source": [
    "# 构建Dataset并进行图像label的处理\n",
    "def create_dataset(data_path, transform, transform_label, batch_size, shuffle=True):\n",
    "    data = ds.MnistDataset(dataset_dir=data_path, shuffle=shuffle)\n",
    "    \n",
    "    data = data.map(transform, 'image')\n",
    "    data = data.map(transform_label, 'label')\n",
    "    \n",
    "    data = data.batch(batch_size, drop_remainder=True)\n",
    "    return data"
   ]
  },
  {
   "cell_type": "code",
   "execution_count": 5,
   "id": "dc9b9266",
   "metadata": {},
   "outputs": [],
   "source": [
    "# 图像预处理\n",
    "transform = transforms.Compose([\n",
    "    vision.Resize((32, 32), interpolation=vision.Inter.LINEAR),\n",
    "    vision.Rescale(1 / 0.3081, -1 * 0.1307 / 0.3081),\n",
    "    vision.Rescale(1.0 / 255.0, 0.0),\n",
    "    vision.Normalize(mean=(0.1307,), std=(0.3081,)),\n",
    "    vision.HWC2CHW()\n",
    "])\n",
    "# label的预处理\n",
    "type_cast_op = transforms.TypeCast(ms.dtype.int32)"
   ]
  },
  {
   "cell_type": "code",
   "execution_count": 6,
   "id": "3672bd70",
   "metadata": {},
   "outputs": [],
   "source": [
    "train_dataset = create_dataset('data/MNIST_Data/train', transform, type_cast_op, 64)\n",
    "test_dataset = create_dataset('data/MNIST_Data/train', transform, type_cast_op, 64)"
   ]
  },
  {
   "cell_type": "code",
   "execution_count": 7,
   "id": "8cfb213b",
   "metadata": {},
   "outputs": [
    {
     "name": "stdout",
     "output_type": "stream",
     "text": [
      "(64, 1, 32, 32) [0 4 6 4 0 6 9 5 7 9 1 0 3 2 4 3 9 8 5 7 3 9 6 0 0 7 3 6 1 4 3 0 2 3 9 7 3\n",
      " 8 2 7 9 4 9 0 2 7 7 5 1 1 9 1 1 7 3 9 9 2 2 0 8 8 4 3]\n"
     ]
    }
   ],
   "source": [
    "img, label = next(train_dataset.create_tuple_iterator())\n",
    "print(img.shape, label)"
   ]
  },
  {
   "cell_type": "code",
   "execution_count": 8,
   "id": "bec25349",
   "metadata": {},
   "outputs": [],
   "source": [
    "# 展示图片函数\n",
    "def plot(imgs, first_origin=None):\n",
    "    num_rows = 1\n",
    "    num_cols = len(imgs)\n",
    "\n",
    "    _, axs = plt.subplots(nrows=num_rows, ncols=num_cols, squeeze=False)\n",
    "    for idx, img in enumerate(imgs):\n",
    "        ax = axs[0, idx]\n",
    "        ax.imshow(img.asnumpy(), cmap='gray')\n",
    "        ax.set(xticklabels=[], yticklabels=[], xticks=[], yticks=[])\n",
    "\n",
    "    if first_origin:\n",
    "        axs[0, 0].set(title='Original image')\n",
    "        axs[0, 0].title.set_size(8)\n",
    "    plt.tight_layout()"
   ]
  },
  {
   "cell_type": "code",
   "execution_count": 9,
   "id": "8a523958",
   "metadata": {},
   "outputs": [
    {
     "data": {
      "image/png": "[encoded data removed]",
      "text/plain": [
       "<Figure size 640x480 with 6 Axes>"
      ]
     },
     "metadata": {},
     "output_type": "display_data"
    }
   ],
   "source": [
    "# 展示图片 \n",
    "images = []\n",
    "for image in img:\n",
    "#     print(\"image shape\", image.shape, \"label shape\", label.shape)\n",
    "    image = np.transpose(image, (1, 2, 0))\n",
    "    images.append(image)\n",
    "    if len(images) > 5:\n",
    "        break\n",
    "\n",
    "plot(images)"
   ]
  },
  {
   "cell_type": "code",
   "execution_count": 10,
   "id": "00c21dd9",
   "metadata": {},
   "outputs": [],
   "source": [
    "# 定义letnet网络，交叉熵损失函数和Adam优化器\n",
    "lenet5 = LeNet5()\n",
    "\n",
    "loss_fn = nn.CrossEntropyLoss()\n",
    "\n",
    "optimizer = nn.Adam(lenet5.trainable_params(), learning_rate=1e-3)"
   ]
  },
  {
   "cell_type": "code",
   "execution_count": 11,
   "id": "0dab6af3",
   "metadata": {},
   "outputs": [],
   "source": [
    "# 设置检查点保存模型\n",
    "steps_per_epoch = train_dataset.get_dataset_size()\n",
    "config = CheckpointConfig(save_checkpoint_steps=steps_per_epoch)\n",
    "\n",
    "ckpt_callback = ModelCheckpoint(prefix=\"mnist\", directory=\"./checkpoint\", config=config)\n",
    "loss_callback = LossMonitor(steps_per_epoch)"
   ]
  },
  {
   "cell_type": "code",
   "execution_count": 12,
   "id": "4b5cadf8",
   "metadata": {},
   "outputs": [
    {
     "name": "stdout",
     "output_type": "stream",
     "text": [
      "epoch: 1 step: 937, loss is 0.039770737290382385\n",
      "Eval result: epoch 1, metrics: {'accuracy': 0.9784385005336179}\n",
      "epoch: 2 step: 937, loss is 0.013771086931228638\n",
      "Eval result: epoch 2, metrics: {'accuracy': 0.9884438367129136}\n",
      "epoch: 3 step: 937, loss is 0.02039952576160431\n",
      "Eval result: epoch 3, metrics: {'accuracy': 0.9914120864461046}\n",
      "epoch: 4 step: 937, loss is 0.0034961476922035217\n",
      "Eval result: epoch 4, metrics: {'accuracy': 0.9911953041622199}\n",
      "epoch: 5 step: 937, loss is 0.00051126629114151\n",
      "Eval result: epoch 5, metrics: {'accuracy': 0.9951640875133404}\n",
      "epoch: 6 step: 937, loss is 0.03217458724975586\n",
      "Eval result: epoch 6, metrics: {'accuracy': 0.994530416221985}\n",
      "epoch: 7 step: 937, loss is 0.00272379070520401\n",
      "Eval result: epoch 7, metrics: {'accuracy': 0.9955309498399146}\n",
      "epoch: 8 step: 937, loss is 0.008720681071281433\n",
      "Eval result: epoch 8, metrics: {'accuracy': 0.9957644076840982}\n",
      "epoch: 9 step: 937, loss is 0.04930884391069412\n",
      "Eval result: epoch 9, metrics: {'accuracy': 0.9967816168623266}\n",
      "epoch: 10 step: 937, loss is 0.1207682192325592\n",
      "Eval result: epoch 10, metrics: {'accuracy': 0.9967816168623266}\n"
     ]
    }
   ],
   "source": [
    "# 开始训练，边训练边评估\n",
    "trainer = Model(lenet5, loss_fn=loss_fn, optimizer=optimizer, metrics={'accuracy'})\n",
    "\n",
    "trainer.fit(10, train_dataset, test_dataset, callbacks=[ckpt_callback, loss_callback])"
   ]
  },
  {
   "cell_type": "code",
   "execution_count": 16,
   "id": "849314c7",
   "metadata": {},
   "outputs": [
    {
     "name": "stdout",
     "output_type": "stream",
     "text": [
      "[]\n"
     ]
    }
   ],
   "source": [
    "model = LeNet5()\n",
    "param_dict = ms.load_checkpoint(\"checkpoint/mnist-10_937.ckpt\")\n",
    "param_not_load, _ = ms.load_param_into_net(model, param_dict)\n",
    "print(param_not_load)"
   ]
  },
  {
   "cell_type": "code",
   "execution_count": 66,
   "id": "6ed57c08",
   "metadata": {},
   "outputs": [],
   "source": [
    "test_img, test_label = next(test_dataset.create_tuple_iterator())"
   ]
  },
  {
   "cell_type": "code",
   "execution_count": 68,
   "id": "04f3b881",
   "metadata": {},
   "outputs": [],
   "source": [
    "model = Model(model)\n",
    "result = model.predict(test_img)"
   ]
  },
  {
   "cell_type": "code",
   "execution_count": 69,
   "id": "8fef6f8d",
   "metadata": {},
   "outputs": [
    {
     "name": "stdout",
     "output_type": "stream",
     "text": [
      "[1 7 3 8 6 7 6 6 1 1 8 3 0 1 5 6 4 0 5 5 2 2 5 4 8 8 9 4 8 3 6 0 0 6 6 5 7\n",
      " 0 5 2 3 9 1 3 1 6 8 3 2 8 0 4 4 5 0 2 8 4 7 0 2 8 4 5]\n",
      "[1 7 3 8 6 7 6 6 1 1 8 3 0 1 5 6 4 0 5 5 2 2 5 4 8 8 9 4 8 3 6 2 0 6 6 5 7\n",
      " 0 5 2 3 9 1 3 1 6 8 3 2 8 0 4 4 5 0 2 8 4 7 0 2 8 4 5]\n"
     ]
    }
   ],
   "source": [
    "print(result.argmax(1))\n",
    "print(test_label)"
   ]
  },
  {
   "cell_type": "code",
   "execution_count": null,
   "id": "a794074a",
   "metadata": {},
   "outputs": [],
   "source": []
  }
 ],
 "metadata": {
  "kernelspec": {
   "display_name": "Python [conda env:nor]",
   "language": "python",
   "name": "conda-env-nor-py"
  },
  "language_info": {
   "codemirror_mode": {
    "name": "ipython",
    "version": 3
   },
   "file_extension": ".py",
   "mimetype": "text/x-python",
   "name": "python",
   "nbconvert_exporter": "python",
   "pygments_lexer": "ipython3",
   "version": "3.8.18"
  }
 },
 "nbformat": 4,
 "nbformat_minor": 5
}
