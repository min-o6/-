{
 "cells": [
  {
   "cell_type": "code",
   "execution_count": 1,
   "id": "5bbb5de6",
   "metadata": {},
   "outputs": [],
   "source": [
    "import cv2\n",
    "import numpy as np"
   ]
  },
  {
   "cell_type": "code",
   "execution_count": 2,
   "id": "beac0adf",
   "metadata": {},
   "outputs": [],
   "source": [
    "# 展示图片\n",
    "def show(name, img):\n",
    "    cv2.imshow(name, img)\n",
    "    cv2.waitKey(0)\n",
    "    cv2.destroyAllWindows()"
   ]
  },
  {
   "cell_type": "code",
   "execution_count": 3,
   "id": "76f91c77",
   "metadata": {},
   "outputs": [],
   "source": [
    "# 计算单应性变换矩阵\n",
    "def compute_homography(src_pts, dst_pts):\n",
    "    N = src_pts.shape[0]\n",
    "    \n",
    "    # 构建计算矩阵\n",
    "    A = np.zeros((2 * N, 9))\n",
    "    for i in range(N):\n",
    "        x, y = src_pts[i]\n",
    "        u, v = dst_pts[i]\n",
    "        A[2*i] = [x, y, 1, 0, 0, 0, -u * x, -u * y, -u]\n",
    "        A[2*i+1] = [0, 0, 0, x, y, 1, -v * x, -v * y, -v]\n",
    "    \n",
    "    # 通过奇异值分解计算单应性变换矩阵\n",
    "    _, _, vh = np.linalg.svd(A)\n",
    "    H = vh[-1].reshape(3, 3)\n",
    "    H = H / H[2][2]\n",
    "    \n",
    "    return H"
   ]
  },
  {
   "cell_type": "code",
   "execution_count": 4,
   "id": "976df4fc",
   "metadata": {},
   "outputs": [],
   "source": [
    "im1 = cv2.imread('left.jpg')\n",
    "im2 = cv2.imread('right.jpg')"
   ]
  },
  {
   "cell_type": "code",
   "execution_count": 5,
   "id": "84a4246e",
   "metadata": {},
   "outputs": [
    {
     "data": {
      "text/plain": [
       "True"
      ]
     },
     "execution_count": 5,
     "metadata": {},
     "output_type": "execute_result"
    }
   ],
   "source": [
    "# 匹配的点集\n",
    "src_pts = np.array([[538, 167], [236, 316], [338, 343], [551, 267]]) # left\n",
    "dst_pts = np.array([[500, 182], [191, 323], [284, 353], [516, 286]]) # right\n",
    "\n",
    "im3 = im2.copy()\n",
    "for point in dst_pts:\n",
    "    im3 = cv2.circle(im3,(point[0], point[1]), 2, (0,255,0), -1)\n",
    "show('im3', im3)\n",
    "cv2.imwrite('point.jpg', im3)"
   ]
  },
  {
   "cell_type": "code",
   "execution_count": 10,
   "id": "0b7a766b",
   "metadata": {},
   "outputs": [
    {
     "name": "stdout",
     "output_type": "stream",
     "text": [
      "[[ 6.74844909e-01 -4.04390976e-02  1.98081125e+01]\n",
      " [-1.05100802e-01  7.55496521e-01  6.72844817e+01]\n",
      " [-4.34076401e-04 -8.51748927e-05  1.00000000e+00]]\n",
      "------------------------------------------------\n",
      "[[ 6.74844909e-01 -4.04390976e-02  1.98081125e+01]\n",
      " [-1.05100802e-01  7.55496521e-01  6.72844817e+01]\n",
      " [-4.34076401e-04 -8.51748927e-05  1.00000000e+00]]\n"
     ]
    }
   ],
   "source": [
    "H = compute_homography(src_pts, dst_pts)\n",
    "print(H)\n",
    "print('------------------------------------------------')\n",
    "# 这里使用了cv2提供的接口进行对比\n",
    "H, _ = cv2.findHomography(src_pts, dst_pts)\n",
    "print(H)"
   ]
  },
  {
   "cell_type": "code",
   "execution_count": 7,
   "id": "1a9eeaf3",
   "metadata": {},
   "outputs": [],
   "source": [
    "h, w = im2.shape[:2]\n",
    "\n",
    "# 根据单应性变换矩阵将im2变换视角\n",
    "im2_warp = cv2.warpPerspective(im2, np.linalg.inv(H), (w, h))"
   ]
  },
  {
   "cell_type": "code",
   "execution_count": 8,
   "id": "148807a8",
   "metadata": {},
   "outputs": [],
   "source": [
    "show('test', im2_warp)"
   ]
  },
  {
   "cell_type": "code",
   "execution_count": 9,
   "id": "2013420a",
   "metadata": {},
   "outputs": [
    {
     "data": {
      "text/plain": [
       "True"
      ]
     },
     "execution_count": 9,
     "metadata": {},
     "output_type": "execute_result"
    }
   ],
   "source": [
    "cv2.imwrite('res1.jpg', im2_warp)"
   ]
  },
  {
   "cell_type": "code",
   "execution_count": null,
   "id": "9e2498f5",
   "metadata": {},
   "outputs": [],
   "source": []
  }
 ],
 "metadata": {
  "kernelspec": {
   "display_name": "Python [conda env:nor]",
   "language": "python",
   "name": "conda-env-nor-py"
  },
  "language_info": {
   "codemirror_mode": {
    "name": "ipython",
    "version": 3
   },
   "file_extension": ".py",
   "mimetype": "text/x-python",
   "name": "python",
   "nbconvert_exporter": "python",
   "pygments_lexer": "ipython3",
   "version": "3.8.18"
  }
 },
 "nbformat": 4,
 "nbformat_minor": 5
}
