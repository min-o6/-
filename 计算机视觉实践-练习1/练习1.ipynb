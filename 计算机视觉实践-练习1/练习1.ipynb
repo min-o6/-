{
 "cells": [
  {
   "cell_type": "code",
   "execution_count": 1,
   "id": "f162451e",
   "metadata": {},
   "outputs": [],
   "source": [
    "import cv2\n",
    "import numpy as np\n",
    "from PIL import Image\n",
    "import time"
   ]
  },
  {
   "cell_type": "code",
   "execution_count": 2,
   "id": "275b933c",
   "metadata": {},
   "outputs": [],
   "source": [
    "# 展示图片\n",
    "def show(name, img):\n",
    "    cv2.imshow(name, img)\n",
    "    cv2.waitKey(0)\n",
    "    cv2.destroyAllWindows()"
   ]
  },
  {
   "cell_type": "code",
   "execution_count": 3,
   "id": "ffe6b20c",
   "metadata": {},
   "outputs": [],
   "source": [
    "starttime = time.time()\n",
    "\n",
    "# 读取输入图片\n",
    "ima = cv2.imread(\"zuo.jpg\")\n",
    "imb = cv2.imread(\"you.jpg\")\n",
    "imageA = cv2.resize(ima,(0,0),fx=0.2,fy=0.2)\n",
    "imageB = cv2.resize(imb,(0,0),fx=0.2,fy=0.2)"
   ]
  },
  {
   "cell_type": "code",
   "execution_count": 4,
   "id": "621082c5",
   "metadata": {},
   "outputs": [],
   "source": [
    "# show('you', imageA)\n",
    "# show('zuo', imageB)"
   ]
  },
  {
   "cell_type": "code",
   "execution_count": 5,
   "id": "da7c03a0",
   "metadata": {},
   "outputs": [],
   "source": [
    "# 检测A、B图片的SIFT关键特征点，并计算特征描述子\n",
    "def detectAndDescribe(image):\n",
    "    # 建立SIFT生成器\n",
    "    sift = cv2.SIFT_create()\n",
    "    # 检测SIFT特征点，并计算描述子\n",
    "    (kps, features) = sift.detectAndCompute(image, None)\n",
    "    # 在图像中标出关键点\n",
    "    img_with_keypoints = cv2.drawKeypoints(image, kps, None)\n",
    "#     show('keypoints', img_with_keypoints)\n",
    "    # 返回特征点集，及对应的描述特征\n",
    "    return (kps, features)"
   ]
  },
  {
   "cell_type": "code",
   "execution_count": 6,
   "id": "07908eaf",
   "metadata": {},
   "outputs": [],
   "source": [
    "#检测A、B图片的SIFT关键特征点，并计算特征描述子\n",
    "kpsA, featuresA = detectAndDescribe(imageA)\n",
    "kpsB, featuresB = detectAndDescribe(imageB)"
   ]
  },
  {
   "cell_type": "code",
   "execution_count": 7,
   "id": "e836a0b3",
   "metadata": {
    "scrolled": true
   },
   "outputs": [],
   "source": [
    "MIN = 10\n",
    "FLANN_INDEX_KDTREE = 0\n",
    "\n",
    "# 创建FLANN匹配器\n",
    "indexParams = dict(algorithm = FLANN_INDEX_KDTREE, trees = 5)\n",
    "searchParams = dict(checks=50)\n",
    "flann=cv2.FlannBasedMatcher(indexParams,searchParams)\n",
    "match=flann.knnMatch(featuresA,featuresB,k=2)"
   ]
  },
  {
   "cell_type": "code",
   "execution_count": 8,
   "id": "79e0a824",
   "metadata": {},
   "outputs": [],
   "source": [
    "good_match=[]\n",
    "#过滤特征点\n",
    "for i,(m,n) in enumerate(match):\n",
    "    if(m.distance<0.75*n.distance):\n",
    "        good_match.append(m)\n",
    "\n",
    "# 绘制匹配结果\n",
    "result = cv2.drawMatches(imageA, kpsA, imageB, kpsB, good_match, None, flags=cv2.DrawMatchesFlags_NOT_DRAW_SINGLE_POINTS)\n",
    "# show('match_res',result)\n",
    "# cv2.imwrite('match_res.jpg', result)"
   ]
  },
  {
   "cell_type": "code",
   "execution_count": 9,
   "id": "d63649ae",
   "metadata": {},
   "outputs": [
    {
     "name": "stdout",
     "output_type": "stream",
     "text": [
      "691\n",
      "922\n"
     ]
    }
   ],
   "source": [
    "# 当筛选后的匹配对大于10时，计算视角变换矩阵\n",
    "if len(good_match) > MIN:\n",
    "    src_pts = np.float32([kpsA[m.queryIdx].pt for m in good_match]).reshape(-1,1,2)\n",
    "    ano_pts = np.float32([kpsB[m.trainIdx].pt for m in good_match]).reshape(-1,1,2)\n",
    "    M,mask = cv2.findHomography(src_pts,ano_pts,cv2.RANSAC,5.0)\n",
    "    warpImg = cv2.warpPerspective(imageB, np.linalg.inv(M), (imageA.shape[1] + imageB.shape[1], imageB.shape[0]))\n",
    "    direct=warpImg.copy()\n",
    "    direct[0:imageA.shape[0], 0:imageB.shape[1]] =imageA\n",
    "\n",
    "# show('res',warpImg)\n",
    "# show('direct', direct)\n",
    "# cv2.imwrite('res.jpg', warpImg)\n",
    "# cv2.imwrite('direct.jpg', direct)\n",
    "rows,cols=imageA.shape[:2]\n",
    "print(rows)\n",
    "print(cols)"
   ]
  },
  {
   "cell_type": "code",
   "execution_count": 10,
   "id": "522804a6",
   "metadata": {},
   "outputs": [
    {
     "name": "stdout",
     "output_type": "stream",
     "text": [
      "194\n",
      "921\n"
     ]
    }
   ],
   "source": [
    "for col in range(0,cols):\n",
    "    # 开始重叠的最左端\n",
    "    if imageA[:, col].any() and warpImg[:, col].any():\n",
    "        left = col\n",
    "        print(left)\n",
    "        break\n",
    "\n",
    "for col in range(cols-1, 0, -1):\n",
    "    #重叠的最右一列\n",
    "    if imageA[:, col].any() and warpImg[:, col].any():\n",
    "        right = col\n",
    "        print(right)\n",
    "        break"
   ]
  },
  {
   "cell_type": "code",
   "execution_count": 11,
   "id": "0ec153ff",
   "metadata": {},
   "outputs": [
    {
     "name": "stdout",
     "output_type": "stream",
     "text": [
      "8.567049980163574\n"
     ]
    }
   ],
   "source": [
    "# 在重叠部位使用加权处理，减少两张图环境光带来的影响\n",
    "res = np.zeros([rows, cols, 3], np.uint8)\n",
    "for row in range(0, rows):\n",
    "    for col in range(0, cols):\n",
    "        if not imageA[row, col].any():  \n",
    "            res[row, col] = warpImg[row, col]\n",
    "        elif not warpImg[row, col].any():\n",
    "            res[row, col] = imageA[row, col]\n",
    "        else:\n",
    "            srcImgLen = float(abs(col - left))\n",
    "            testImgLen = float(abs(col - right))\n",
    "            alpha = srcImgLen / (srcImgLen + testImgLen)\n",
    "            res[row, col] = np.clip(imageA[row, col] * (1 - alpha) + warpImg[row, col] * alpha, 0, 255) #每个像素的取值限制在0-255\n",
    "\n",
    "warpImg[0:imageA.shape[0], 0:imageA.shape[1]]=res\n",
    "show('res',warpImg)\n",
    "final=time.time()\n",
    "print(final-starttime)"
   ]
  },
  {
   "cell_type": "code",
   "execution_count": 12,
   "id": "16611fa1",
   "metadata": {},
   "outputs": [
    {
     "data": {
      "text/plain": [
       "True"
      ]
     },
     "execution_count": 12,
     "metadata": {},
     "output_type": "execute_result"
    }
   ],
   "source": [
    "cv2.imwrite('finalres.jpg', warpImg)"
   ]
  },
  {
   "cell_type": "code",
   "execution_count": null,
   "id": "41e4af8a",
   "metadata": {},
   "outputs": [],
   "source": []
  }
 ],
 "metadata": {
  "kernelspec": {
   "display_name": "Python [conda env:nor]",
   "language": "python",
   "name": "conda-env-nor-py"
  },
  "language_info": {
   "codemirror_mode": {
    "name": "ipython",
    "version": 3
   },
   "file_extension": ".py",
   "mimetype": "text/x-python",
   "name": "python",
   "nbconvert_exporter": "python",
   "pygments_lexer": "ipython3",
   "version": "3.8.18"
  }
 },
 "nbformat": 4,
 "nbformat_minor": 5
}
