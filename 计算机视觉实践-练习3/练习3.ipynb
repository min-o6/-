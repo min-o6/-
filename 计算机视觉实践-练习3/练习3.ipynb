{
 "cells": [
  {
   "cell_type": "code",
   "execution_count": 1,
   "id": "b0c842af",
   "metadata": {},
   "outputs": [],
   "source": [
    "import cv2\n",
    "import numpy as np\n",
    "import os"
   ]
  },
  {
   "cell_type": "code",
   "execution_count": 3,
   "id": "e9ae034c",
   "metadata": {},
   "outputs": [],
   "source": [
    "pic_path = 'Set5'\n",
    "pic_path_list = [os.path.join(pic_path, x) for x in sorted(os.listdir(pic_path))]"
   ]
  },
  {
   "cell_type": "code",
   "execution_count": 16,
   "id": "dd2242f0",
   "metadata": {},
   "outputs": [],
   "source": [
    "# 将图片进行Bicubic插值进行4倍下采样\n",
    "for img in pic_path_list:\n",
    "    img_hr = cv2.imread(img)\n",
    "    \n",
    "    dsize = (int(np.shape(img_hr)[1] / 4), int(np.shape(img_hr)[0] / 4))\n",
    "    img_hr = cv2.resize(img_hr, dsize=dsize, interpolation=cv2.INTER_CUBIC)\n",
    "    \n",
    "    cv2.imwrite('resizeSet5/' + img.split('\\\\')[-1], img_hr)"
   ]
  },
  {
   "cell_type": "code",
   "execution_count": 2,
   "id": "d4cc1e2e",
   "metadata": {},
   "outputs": [],
   "source": [
    "from skimage.metrics import peak_signal_noise_ratio, structural_similarity"
   ]
  },
  {
   "cell_type": "code",
   "execution_count": 4,
   "id": "576125d3",
   "metadata": {},
   "outputs": [],
   "source": [
    "srimg_path = 'output'\n",
    "srimg_path_list = [os.path.join(srimg_path, x) for x in sorted(os.listdir(srimg_path))]"
   ]
  },
  {
   "cell_type": "code",
   "execution_count": 5,
   "id": "54e1abe0",
   "metadata": {},
   "outputs": [],
   "source": [
    "# 把超分辨率过后的图与原图计算PSNR和SSIM\n",
    "def get_metric(ori_list, sr_list):\n",
    "    for i in range(5):\n",
    "        print(pic_path_list[i].split('\\\\')[-1].split('.')[0])\n",
    "        ori_img = cv2.imread(pic_path_list[i])\n",
    "        sr_img = cv2.imread(srimg_path_list[i])\n",
    "\n",
    "        ori_img = np.array(ori_img)\n",
    "        sr_img = np.array(sr_img)\n",
    "\n",
    "        # 计算PSNR\n",
    "        psnr = peak_signal_noise_ratio(ori_img, sr_img, data_range=255)\n",
    "        print(f'PSNR: {psnr:.2f}')\n",
    "\n",
    "        # 计算SSIM\n",
    "        ssim = structural_similarity(ori_img, sr_img, data_range=255, multichannel=True, channel_axis=2)\n",
    "        print(f'SSIM: {ssim:.2f}')"
   ]
  },
  {
   "cell_type": "code",
   "execution_count": 6,
   "id": "536f5955",
   "metadata": {},
   "outputs": [
    {
     "name": "stdout",
     "output_type": "stream",
     "text": [
      "baby\n",
      "PSNR: 26.67\n",
      "SSIM: 0.78\n",
      "bird\n",
      "PSNR: 23.81\n",
      "SSIM: 0.74\n",
      "butterfly\n",
      "PSNR: 16.80\n",
      "SSIM: 0.62\n",
      "head\n",
      "PSNR: 25.38\n",
      "SSIM: 0.59\n",
      "woman\n",
      "PSNR: 20.95\n",
      "SSIM: 0.77\n"
     ]
    }
   ],
   "source": [
    "get_metric(pic_path_list, srimg_path_list)"
   ]
  },
  {
   "cell_type": "code",
   "execution_count": 7,
   "id": "f474091c",
   "metadata": {},
   "outputs": [],
   "source": [
    "srimg_path = 'output_1000'\n",
    "srimg_path_list = [os.path.join(srimg_path, x) for x in sorted(os.listdir(srimg_path))]"
   ]
  },
  {
   "cell_type": "code",
   "execution_count": 8,
   "id": "3190a9e5",
   "metadata": {},
   "outputs": [
    {
     "name": "stdout",
     "output_type": "stream",
     "text": [
      "baby\n",
      "PSNR: 26.92\n",
      "SSIM: 0.76\n",
      "bird\n",
      "PSNR: 23.91\n",
      "SSIM: 0.72\n",
      "butterfly\n",
      "PSNR: 17.03\n",
      "SSIM: 0.61\n",
      "head\n",
      "PSNR: 25.14\n",
      "SSIM: 0.56\n",
      "woman\n",
      "PSNR: 20.89\n",
      "SSIM: 0.74\n"
     ]
    }
   ],
   "source": [
    "get_metric(pic_path_list, srimg_path_list)"
   ]
  },
  {
   "cell_type": "code",
   "execution_count": null,
   "id": "19e8e87a",
   "metadata": {},
   "outputs": [],
   "source": []
  }
 ],
 "metadata": {
  "kernelspec": {
   "display_name": "Python [conda env:nor]",
   "language": "python",
   "name": "conda-env-nor-py"
  },
  "language_info": {
   "codemirror_mode": {
    "name": "ipython",
    "version": 3
   },
   "file_extension": ".py",
   "mimetype": "text/x-python",
   "name": "python",
   "nbconvert_exporter": "python",
   "pygments_lexer": "ipython3",
   "version": "3.8.18"
  }
 },
 "nbformat": 4,
 "nbformat_minor": 5
}
